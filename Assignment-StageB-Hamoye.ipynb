{
 "cells": [
  {
   "cell_type": "code",
   "execution_count": 19,
   "id": "3d16c33b",
   "metadata": {},
   "outputs": [],
   "source": [
    "import pandas as pd\n",
    "import numpy as np"
   ]
  },
  {
   "cell_type": "code",
   "execution_count": 20,
   "id": "0e99dcfe",
   "metadata": {},
   "outputs": [
    {
     "data": {
      "text/html": [
       "<div>\n",
       "<style scoped>\n",
       "    .dataframe tbody tr th:only-of-type {\n",
       "        vertical-align: middle;\n",
       "    }\n",
       "\n",
       "    .dataframe tbody tr th {\n",
       "        vertical-align: top;\n",
       "    }\n",
       "\n",
       "    .dataframe thead th {\n",
       "        text-align: right;\n",
       "    }\n",
       "</style>\n",
       "<table border=\"1\" class=\"dataframe\">\n",
       "  <thead>\n",
       "    <tr style=\"text-align: right;\">\n",
       "      <th></th>\n",
       "      <th>date</th>\n",
       "      <th>Appliances</th>\n",
       "      <th>lights</th>\n",
       "      <th>T1</th>\n",
       "      <th>RH_1</th>\n",
       "      <th>T2</th>\n",
       "      <th>RH_2</th>\n",
       "      <th>T3</th>\n",
       "      <th>RH_3</th>\n",
       "      <th>T4</th>\n",
       "      <th>...</th>\n",
       "      <th>T9</th>\n",
       "      <th>RH_9</th>\n",
       "      <th>T_out</th>\n",
       "      <th>Press_mm_hg</th>\n",
       "      <th>RH_out</th>\n",
       "      <th>Windspeed</th>\n",
       "      <th>Visibility</th>\n",
       "      <th>Tdewpoint</th>\n",
       "      <th>rv1</th>\n",
       "      <th>rv2</th>\n",
       "    </tr>\n",
       "  </thead>\n",
       "  <tbody>\n",
       "    <tr>\n",
       "      <th>0</th>\n",
       "      <td>2016-01-11 17:00:00</td>\n",
       "      <td>60</td>\n",
       "      <td>30</td>\n",
       "      <td>19.89</td>\n",
       "      <td>47.596667</td>\n",
       "      <td>19.2</td>\n",
       "      <td>44.790000</td>\n",
       "      <td>19.79</td>\n",
       "      <td>44.730000</td>\n",
       "      <td>19.000000</td>\n",
       "      <td>...</td>\n",
       "      <td>17.033333</td>\n",
       "      <td>45.53</td>\n",
       "      <td>6.600000</td>\n",
       "      <td>733.5</td>\n",
       "      <td>92.0</td>\n",
       "      <td>7.000000</td>\n",
       "      <td>63.000000</td>\n",
       "      <td>5.3</td>\n",
       "      <td>13.275433</td>\n",
       "      <td>13.275433</td>\n",
       "    </tr>\n",
       "    <tr>\n",
       "      <th>1</th>\n",
       "      <td>2016-01-11 17:10:00</td>\n",
       "      <td>60</td>\n",
       "      <td>30</td>\n",
       "      <td>19.89</td>\n",
       "      <td>46.693333</td>\n",
       "      <td>19.2</td>\n",
       "      <td>44.722500</td>\n",
       "      <td>19.79</td>\n",
       "      <td>44.790000</td>\n",
       "      <td>19.000000</td>\n",
       "      <td>...</td>\n",
       "      <td>17.066667</td>\n",
       "      <td>45.56</td>\n",
       "      <td>6.483333</td>\n",
       "      <td>733.6</td>\n",
       "      <td>92.0</td>\n",
       "      <td>6.666667</td>\n",
       "      <td>59.166667</td>\n",
       "      <td>5.2</td>\n",
       "      <td>18.606195</td>\n",
       "      <td>18.606195</td>\n",
       "    </tr>\n",
       "    <tr>\n",
       "      <th>2</th>\n",
       "      <td>2016-01-11 17:20:00</td>\n",
       "      <td>50</td>\n",
       "      <td>30</td>\n",
       "      <td>19.89</td>\n",
       "      <td>46.300000</td>\n",
       "      <td>19.2</td>\n",
       "      <td>44.626667</td>\n",
       "      <td>19.79</td>\n",
       "      <td>44.933333</td>\n",
       "      <td>18.926667</td>\n",
       "      <td>...</td>\n",
       "      <td>17.000000</td>\n",
       "      <td>45.50</td>\n",
       "      <td>6.366667</td>\n",
       "      <td>733.7</td>\n",
       "      <td>92.0</td>\n",
       "      <td>6.333333</td>\n",
       "      <td>55.333333</td>\n",
       "      <td>5.1</td>\n",
       "      <td>28.642668</td>\n",
       "      <td>28.642668</td>\n",
       "    </tr>\n",
       "    <tr>\n",
       "      <th>3</th>\n",
       "      <td>2016-01-11 17:30:00</td>\n",
       "      <td>50</td>\n",
       "      <td>40</td>\n",
       "      <td>19.89</td>\n",
       "      <td>46.066667</td>\n",
       "      <td>19.2</td>\n",
       "      <td>44.590000</td>\n",
       "      <td>19.79</td>\n",
       "      <td>45.000000</td>\n",
       "      <td>18.890000</td>\n",
       "      <td>...</td>\n",
       "      <td>17.000000</td>\n",
       "      <td>45.40</td>\n",
       "      <td>6.250000</td>\n",
       "      <td>733.8</td>\n",
       "      <td>92.0</td>\n",
       "      <td>6.000000</td>\n",
       "      <td>51.500000</td>\n",
       "      <td>5.0</td>\n",
       "      <td>45.410389</td>\n",
       "      <td>45.410389</td>\n",
       "    </tr>\n",
       "    <tr>\n",
       "      <th>4</th>\n",
       "      <td>2016-01-11 17:40:00</td>\n",
       "      <td>60</td>\n",
       "      <td>40</td>\n",
       "      <td>19.89</td>\n",
       "      <td>46.333333</td>\n",
       "      <td>19.2</td>\n",
       "      <td>44.530000</td>\n",
       "      <td>19.79</td>\n",
       "      <td>45.000000</td>\n",
       "      <td>18.890000</td>\n",
       "      <td>...</td>\n",
       "      <td>17.000000</td>\n",
       "      <td>45.40</td>\n",
       "      <td>6.133333</td>\n",
       "      <td>733.9</td>\n",
       "      <td>92.0</td>\n",
       "      <td>5.666667</td>\n",
       "      <td>47.666667</td>\n",
       "      <td>4.9</td>\n",
       "      <td>10.084097</td>\n",
       "      <td>10.084097</td>\n",
       "    </tr>\n",
       "  </tbody>\n",
       "</table>\n",
       "<p>5 rows × 29 columns</p>\n",
       "</div>"
      ],
      "text/plain": [
       "                  date  Appliances  lights     T1       RH_1    T2       RH_2  \\\n",
       "0  2016-01-11 17:00:00          60      30  19.89  47.596667  19.2  44.790000   \n",
       "1  2016-01-11 17:10:00          60      30  19.89  46.693333  19.2  44.722500   \n",
       "2  2016-01-11 17:20:00          50      30  19.89  46.300000  19.2  44.626667   \n",
       "3  2016-01-11 17:30:00          50      40  19.89  46.066667  19.2  44.590000   \n",
       "4  2016-01-11 17:40:00          60      40  19.89  46.333333  19.2  44.530000   \n",
       "\n",
       "      T3       RH_3         T4  ...         T9   RH_9     T_out  Press_mm_hg  \\\n",
       "0  19.79  44.730000  19.000000  ...  17.033333  45.53  6.600000        733.5   \n",
       "1  19.79  44.790000  19.000000  ...  17.066667  45.56  6.483333        733.6   \n",
       "2  19.79  44.933333  18.926667  ...  17.000000  45.50  6.366667        733.7   \n",
       "3  19.79  45.000000  18.890000  ...  17.000000  45.40  6.250000        733.8   \n",
       "4  19.79  45.000000  18.890000  ...  17.000000  45.40  6.133333        733.9   \n",
       "\n",
       "   RH_out  Windspeed  Visibility  Tdewpoint        rv1        rv2  \n",
       "0    92.0   7.000000   63.000000        5.3  13.275433  13.275433  \n",
       "1    92.0   6.666667   59.166667        5.2  18.606195  18.606195  \n",
       "2    92.0   6.333333   55.333333        5.1  28.642668  28.642668  \n",
       "3    92.0   6.000000   51.500000        5.0  45.410389  45.410389  \n",
       "4    92.0   5.666667   47.666667        4.9  10.084097  10.084097  \n",
       "\n",
       "[5 rows x 29 columns]"
      ]
     },
     "execution_count": 20,
     "metadata": {},
     "output_type": "execute_result"
    }
   ],
   "source": [
    "#Loading our data\n",
    "data = pd.read_csv(\"energydata_complete.csv\")\n",
    "data.head()"
   ]
  },
  {
   "cell_type": "code",
   "execution_count": 21,
   "id": "1c719f3d",
   "metadata": {},
   "outputs": [
    {
     "data": {
      "text/html": [
       "<div>\n",
       "<style scoped>\n",
       "    .dataframe tbody tr th:only-of-type {\n",
       "        vertical-align: middle;\n",
       "    }\n",
       "\n",
       "    .dataframe tbody tr th {\n",
       "        vertical-align: top;\n",
       "    }\n",
       "\n",
       "    .dataframe thead th {\n",
       "        text-align: right;\n",
       "    }\n",
       "</style>\n",
       "<table border=\"1\" class=\"dataframe\">\n",
       "  <thead>\n",
       "    <tr style=\"text-align: right;\">\n",
       "      <th></th>\n",
       "      <th>count</th>\n",
       "      <th>mean</th>\n",
       "      <th>std</th>\n",
       "      <th>min</th>\n",
       "      <th>25%</th>\n",
       "      <th>50%</th>\n",
       "      <th>75%</th>\n",
       "      <th>max</th>\n",
       "    </tr>\n",
       "  </thead>\n",
       "  <tbody>\n",
       "    <tr>\n",
       "      <th>Appliances</th>\n",
       "      <td>19735.0</td>\n",
       "      <td>97.694958</td>\n",
       "      <td>102.524891</td>\n",
       "      <td>10.000000</td>\n",
       "      <td>50.000000</td>\n",
       "      <td>60.000000</td>\n",
       "      <td>100.000000</td>\n",
       "      <td>1080.000000</td>\n",
       "    </tr>\n",
       "    <tr>\n",
       "      <th>lights</th>\n",
       "      <td>19735.0</td>\n",
       "      <td>3.801875</td>\n",
       "      <td>7.935988</td>\n",
       "      <td>0.000000</td>\n",
       "      <td>0.000000</td>\n",
       "      <td>0.000000</td>\n",
       "      <td>0.000000</td>\n",
       "      <td>70.000000</td>\n",
       "    </tr>\n",
       "    <tr>\n",
       "      <th>T1</th>\n",
       "      <td>19735.0</td>\n",
       "      <td>21.686571</td>\n",
       "      <td>1.606066</td>\n",
       "      <td>16.790000</td>\n",
       "      <td>20.760000</td>\n",
       "      <td>21.600000</td>\n",
       "      <td>22.600000</td>\n",
       "      <td>26.260000</td>\n",
       "    </tr>\n",
       "    <tr>\n",
       "      <th>RH_1</th>\n",
       "      <td>19735.0</td>\n",
       "      <td>40.259739</td>\n",
       "      <td>3.979299</td>\n",
       "      <td>27.023333</td>\n",
       "      <td>37.333333</td>\n",
       "      <td>39.656667</td>\n",
       "      <td>43.066667</td>\n",
       "      <td>63.360000</td>\n",
       "    </tr>\n",
       "    <tr>\n",
       "      <th>T2</th>\n",
       "      <td>19735.0</td>\n",
       "      <td>20.341219</td>\n",
       "      <td>2.192974</td>\n",
       "      <td>16.100000</td>\n",
       "      <td>18.790000</td>\n",
       "      <td>20.000000</td>\n",
       "      <td>21.500000</td>\n",
       "      <td>29.856667</td>\n",
       "    </tr>\n",
       "    <tr>\n",
       "      <th>RH_2</th>\n",
       "      <td>19735.0</td>\n",
       "      <td>40.420420</td>\n",
       "      <td>4.069813</td>\n",
       "      <td>20.463333</td>\n",
       "      <td>37.900000</td>\n",
       "      <td>40.500000</td>\n",
       "      <td>43.260000</td>\n",
       "      <td>56.026667</td>\n",
       "    </tr>\n",
       "    <tr>\n",
       "      <th>T3</th>\n",
       "      <td>19735.0</td>\n",
       "      <td>22.267611</td>\n",
       "      <td>2.006111</td>\n",
       "      <td>17.200000</td>\n",
       "      <td>20.790000</td>\n",
       "      <td>22.100000</td>\n",
       "      <td>23.290000</td>\n",
       "      <td>29.236000</td>\n",
       "    </tr>\n",
       "    <tr>\n",
       "      <th>RH_3</th>\n",
       "      <td>19735.0</td>\n",
       "      <td>39.242500</td>\n",
       "      <td>3.254576</td>\n",
       "      <td>28.766667</td>\n",
       "      <td>36.900000</td>\n",
       "      <td>38.530000</td>\n",
       "      <td>41.760000</td>\n",
       "      <td>50.163333</td>\n",
       "    </tr>\n",
       "    <tr>\n",
       "      <th>T4</th>\n",
       "      <td>19735.0</td>\n",
       "      <td>20.855335</td>\n",
       "      <td>2.042884</td>\n",
       "      <td>15.100000</td>\n",
       "      <td>19.530000</td>\n",
       "      <td>20.666667</td>\n",
       "      <td>22.100000</td>\n",
       "      <td>26.200000</td>\n",
       "    </tr>\n",
       "    <tr>\n",
       "      <th>RH_4</th>\n",
       "      <td>19735.0</td>\n",
       "      <td>39.026904</td>\n",
       "      <td>4.341321</td>\n",
       "      <td>27.660000</td>\n",
       "      <td>35.530000</td>\n",
       "      <td>38.400000</td>\n",
       "      <td>42.156667</td>\n",
       "      <td>51.090000</td>\n",
       "    </tr>\n",
       "    <tr>\n",
       "      <th>T5</th>\n",
       "      <td>19735.0</td>\n",
       "      <td>19.592106</td>\n",
       "      <td>1.844623</td>\n",
       "      <td>15.330000</td>\n",
       "      <td>18.277500</td>\n",
       "      <td>19.390000</td>\n",
       "      <td>20.619643</td>\n",
       "      <td>25.795000</td>\n",
       "    </tr>\n",
       "    <tr>\n",
       "      <th>RH_5</th>\n",
       "      <td>19735.0</td>\n",
       "      <td>50.949283</td>\n",
       "      <td>9.022034</td>\n",
       "      <td>29.815000</td>\n",
       "      <td>45.400000</td>\n",
       "      <td>49.090000</td>\n",
       "      <td>53.663333</td>\n",
       "      <td>96.321667</td>\n",
       "    </tr>\n",
       "    <tr>\n",
       "      <th>T6</th>\n",
       "      <td>19735.0</td>\n",
       "      <td>7.910939</td>\n",
       "      <td>6.090347</td>\n",
       "      <td>-6.065000</td>\n",
       "      <td>3.626667</td>\n",
       "      <td>7.300000</td>\n",
       "      <td>11.256000</td>\n",
       "      <td>28.290000</td>\n",
       "    </tr>\n",
       "    <tr>\n",
       "      <th>RH_6</th>\n",
       "      <td>19735.0</td>\n",
       "      <td>54.609083</td>\n",
       "      <td>31.149806</td>\n",
       "      <td>1.000000</td>\n",
       "      <td>30.025000</td>\n",
       "      <td>55.290000</td>\n",
       "      <td>83.226667</td>\n",
       "      <td>99.900000</td>\n",
       "    </tr>\n",
       "    <tr>\n",
       "      <th>T7</th>\n",
       "      <td>19735.0</td>\n",
       "      <td>20.267106</td>\n",
       "      <td>2.109993</td>\n",
       "      <td>15.390000</td>\n",
       "      <td>18.700000</td>\n",
       "      <td>20.033333</td>\n",
       "      <td>21.600000</td>\n",
       "      <td>26.000000</td>\n",
       "    </tr>\n",
       "    <tr>\n",
       "      <th>RH_7</th>\n",
       "      <td>19735.0</td>\n",
       "      <td>35.388200</td>\n",
       "      <td>5.114208</td>\n",
       "      <td>23.200000</td>\n",
       "      <td>31.500000</td>\n",
       "      <td>34.863333</td>\n",
       "      <td>39.000000</td>\n",
       "      <td>51.400000</td>\n",
       "    </tr>\n",
       "    <tr>\n",
       "      <th>T8</th>\n",
       "      <td>19735.0</td>\n",
       "      <td>22.029107</td>\n",
       "      <td>1.956162</td>\n",
       "      <td>16.306667</td>\n",
       "      <td>20.790000</td>\n",
       "      <td>22.100000</td>\n",
       "      <td>23.390000</td>\n",
       "      <td>27.230000</td>\n",
       "    </tr>\n",
       "    <tr>\n",
       "      <th>RH_8</th>\n",
       "      <td>19735.0</td>\n",
       "      <td>42.936165</td>\n",
       "      <td>5.224361</td>\n",
       "      <td>29.600000</td>\n",
       "      <td>39.066667</td>\n",
       "      <td>42.375000</td>\n",
       "      <td>46.536000</td>\n",
       "      <td>58.780000</td>\n",
       "    </tr>\n",
       "    <tr>\n",
       "      <th>T9</th>\n",
       "      <td>19735.0</td>\n",
       "      <td>19.485828</td>\n",
       "      <td>2.014712</td>\n",
       "      <td>14.890000</td>\n",
       "      <td>18.000000</td>\n",
       "      <td>19.390000</td>\n",
       "      <td>20.600000</td>\n",
       "      <td>24.500000</td>\n",
       "    </tr>\n",
       "    <tr>\n",
       "      <th>RH_9</th>\n",
       "      <td>19735.0</td>\n",
       "      <td>41.552401</td>\n",
       "      <td>4.151497</td>\n",
       "      <td>29.166667</td>\n",
       "      <td>38.500000</td>\n",
       "      <td>40.900000</td>\n",
       "      <td>44.338095</td>\n",
       "      <td>53.326667</td>\n",
       "    </tr>\n",
       "    <tr>\n",
       "      <th>T_out</th>\n",
       "      <td>19735.0</td>\n",
       "      <td>7.411665</td>\n",
       "      <td>5.317409</td>\n",
       "      <td>-5.000000</td>\n",
       "      <td>3.666667</td>\n",
       "      <td>6.916667</td>\n",
       "      <td>10.408333</td>\n",
       "      <td>26.100000</td>\n",
       "    </tr>\n",
       "    <tr>\n",
       "      <th>Press_mm_hg</th>\n",
       "      <td>19735.0</td>\n",
       "      <td>755.522602</td>\n",
       "      <td>7.399441</td>\n",
       "      <td>729.300000</td>\n",
       "      <td>750.933333</td>\n",
       "      <td>756.100000</td>\n",
       "      <td>760.933333</td>\n",
       "      <td>772.300000</td>\n",
       "    </tr>\n",
       "    <tr>\n",
       "      <th>RH_out</th>\n",
       "      <td>19735.0</td>\n",
       "      <td>79.750418</td>\n",
       "      <td>14.901088</td>\n",
       "      <td>24.000000</td>\n",
       "      <td>70.333333</td>\n",
       "      <td>83.666667</td>\n",
       "      <td>91.666667</td>\n",
       "      <td>100.000000</td>\n",
       "    </tr>\n",
       "    <tr>\n",
       "      <th>Windspeed</th>\n",
       "      <td>19735.0</td>\n",
       "      <td>4.039752</td>\n",
       "      <td>2.451221</td>\n",
       "      <td>0.000000</td>\n",
       "      <td>2.000000</td>\n",
       "      <td>3.666667</td>\n",
       "      <td>5.500000</td>\n",
       "      <td>14.000000</td>\n",
       "    </tr>\n",
       "    <tr>\n",
       "      <th>Visibility</th>\n",
       "      <td>19735.0</td>\n",
       "      <td>38.330834</td>\n",
       "      <td>11.794719</td>\n",
       "      <td>1.000000</td>\n",
       "      <td>29.000000</td>\n",
       "      <td>40.000000</td>\n",
       "      <td>40.000000</td>\n",
       "      <td>66.000000</td>\n",
       "    </tr>\n",
       "    <tr>\n",
       "      <th>Tdewpoint</th>\n",
       "      <td>19735.0</td>\n",
       "      <td>3.760707</td>\n",
       "      <td>4.194648</td>\n",
       "      <td>-6.600000</td>\n",
       "      <td>0.900000</td>\n",
       "      <td>3.433333</td>\n",
       "      <td>6.566667</td>\n",
       "      <td>15.500000</td>\n",
       "    </tr>\n",
       "    <tr>\n",
       "      <th>rv1</th>\n",
       "      <td>19735.0</td>\n",
       "      <td>24.988033</td>\n",
       "      <td>14.496634</td>\n",
       "      <td>0.005322</td>\n",
       "      <td>12.497889</td>\n",
       "      <td>24.897653</td>\n",
       "      <td>37.583769</td>\n",
       "      <td>49.996530</td>\n",
       "    </tr>\n",
       "    <tr>\n",
       "      <th>rv2</th>\n",
       "      <td>19735.0</td>\n",
       "      <td>24.988033</td>\n",
       "      <td>14.496634</td>\n",
       "      <td>0.005322</td>\n",
       "      <td>12.497889</td>\n",
       "      <td>24.897653</td>\n",
       "      <td>37.583769</td>\n",
       "      <td>49.996530</td>\n",
       "    </tr>\n",
       "  </tbody>\n",
       "</table>\n",
       "</div>"
      ],
      "text/plain": [
       "               count        mean         std         min         25%  \\\n",
       "Appliances   19735.0   97.694958  102.524891   10.000000   50.000000   \n",
       "lights       19735.0    3.801875    7.935988    0.000000    0.000000   \n",
       "T1           19735.0   21.686571    1.606066   16.790000   20.760000   \n",
       "RH_1         19735.0   40.259739    3.979299   27.023333   37.333333   \n",
       "T2           19735.0   20.341219    2.192974   16.100000   18.790000   \n",
       "RH_2         19735.0   40.420420    4.069813   20.463333   37.900000   \n",
       "T3           19735.0   22.267611    2.006111   17.200000   20.790000   \n",
       "RH_3         19735.0   39.242500    3.254576   28.766667   36.900000   \n",
       "T4           19735.0   20.855335    2.042884   15.100000   19.530000   \n",
       "RH_4         19735.0   39.026904    4.341321   27.660000   35.530000   \n",
       "T5           19735.0   19.592106    1.844623   15.330000   18.277500   \n",
       "RH_5         19735.0   50.949283    9.022034   29.815000   45.400000   \n",
       "T6           19735.0    7.910939    6.090347   -6.065000    3.626667   \n",
       "RH_6         19735.0   54.609083   31.149806    1.000000   30.025000   \n",
       "T7           19735.0   20.267106    2.109993   15.390000   18.700000   \n",
       "RH_7         19735.0   35.388200    5.114208   23.200000   31.500000   \n",
       "T8           19735.0   22.029107    1.956162   16.306667   20.790000   \n",
       "RH_8         19735.0   42.936165    5.224361   29.600000   39.066667   \n",
       "T9           19735.0   19.485828    2.014712   14.890000   18.000000   \n",
       "RH_9         19735.0   41.552401    4.151497   29.166667   38.500000   \n",
       "T_out        19735.0    7.411665    5.317409   -5.000000    3.666667   \n",
       "Press_mm_hg  19735.0  755.522602    7.399441  729.300000  750.933333   \n",
       "RH_out       19735.0   79.750418   14.901088   24.000000   70.333333   \n",
       "Windspeed    19735.0    4.039752    2.451221    0.000000    2.000000   \n",
       "Visibility   19735.0   38.330834   11.794719    1.000000   29.000000   \n",
       "Tdewpoint    19735.0    3.760707    4.194648   -6.600000    0.900000   \n",
       "rv1          19735.0   24.988033   14.496634    0.005322   12.497889   \n",
       "rv2          19735.0   24.988033   14.496634    0.005322   12.497889   \n",
       "\n",
       "                    50%         75%          max  \n",
       "Appliances    60.000000  100.000000  1080.000000  \n",
       "lights         0.000000    0.000000    70.000000  \n",
       "T1            21.600000   22.600000    26.260000  \n",
       "RH_1          39.656667   43.066667    63.360000  \n",
       "T2            20.000000   21.500000    29.856667  \n",
       "RH_2          40.500000   43.260000    56.026667  \n",
       "T3            22.100000   23.290000    29.236000  \n",
       "RH_3          38.530000   41.760000    50.163333  \n",
       "T4            20.666667   22.100000    26.200000  \n",
       "RH_4          38.400000   42.156667    51.090000  \n",
       "T5            19.390000   20.619643    25.795000  \n",
       "RH_5          49.090000   53.663333    96.321667  \n",
       "T6             7.300000   11.256000    28.290000  \n",
       "RH_6          55.290000   83.226667    99.900000  \n",
       "T7            20.033333   21.600000    26.000000  \n",
       "RH_7          34.863333   39.000000    51.400000  \n",
       "T8            22.100000   23.390000    27.230000  \n",
       "RH_8          42.375000   46.536000    58.780000  \n",
       "T9            19.390000   20.600000    24.500000  \n",
       "RH_9          40.900000   44.338095    53.326667  \n",
       "T_out          6.916667   10.408333    26.100000  \n",
       "Press_mm_hg  756.100000  760.933333   772.300000  \n",
       "RH_out        83.666667   91.666667   100.000000  \n",
       "Windspeed      3.666667    5.500000    14.000000  \n",
       "Visibility    40.000000   40.000000    66.000000  \n",
       "Tdewpoint      3.433333    6.566667    15.500000  \n",
       "rv1           24.897653   37.583769    49.996530  \n",
       "rv2           24.897653   37.583769    49.996530  "
      ]
     },
     "execution_count": 21,
     "metadata": {},
     "output_type": "execute_result"
    }
   ],
   "source": [
    "#Describing our data\n",
    "data.describe().T"
   ]
  },
  {
   "cell_type": "code",
   "execution_count": 22,
   "id": "6a7c3f72",
   "metadata": {},
   "outputs": [
    {
     "data": {
      "text/plain": [
       "date            object\n",
       "Appliances       int64\n",
       "lights           int64\n",
       "T1             float64\n",
       "RH_1           float64\n",
       "T2             float64\n",
       "RH_2           float64\n",
       "T3             float64\n",
       "RH_3           float64\n",
       "T4             float64\n",
       "RH_4           float64\n",
       "T5             float64\n",
       "RH_5           float64\n",
       "T6             float64\n",
       "RH_6           float64\n",
       "T7             float64\n",
       "RH_7           float64\n",
       "T8             float64\n",
       "RH_8           float64\n",
       "T9             float64\n",
       "RH_9           float64\n",
       "T_out          float64\n",
       "Press_mm_hg    float64\n",
       "RH_out         float64\n",
       "Windspeed      float64\n",
       "Visibility     float64\n",
       "Tdewpoint      float64\n",
       "rv1            float64\n",
       "rv2            float64\n",
       "dtype: object"
      ]
     },
     "execution_count": 22,
     "metadata": {},
     "output_type": "execute_result"
    }
   ],
   "source": [
    "#Checking on data types\n",
    "data.dtypes"
   ]
  },
  {
   "cell_type": "code",
   "execution_count": 23,
   "id": "6029dd3b",
   "metadata": {},
   "outputs": [
    {
     "data": {
      "text/plain": [
       "date           0\n",
       "Appliances     0\n",
       "lights         0\n",
       "T1             0\n",
       "RH_1           0\n",
       "T2             0\n",
       "RH_2           0\n",
       "T3             0\n",
       "RH_3           0\n",
       "T4             0\n",
       "RH_4           0\n",
       "T5             0\n",
       "RH_5           0\n",
       "T6             0\n",
       "RH_6           0\n",
       "T7             0\n",
       "RH_7           0\n",
       "T8             0\n",
       "RH_8           0\n",
       "T9             0\n",
       "RH_9           0\n",
       "T_out          0\n",
       "Press_mm_hg    0\n",
       "RH_out         0\n",
       "Windspeed      0\n",
       "Visibility     0\n",
       "Tdewpoint      0\n",
       "rv1            0\n",
       "rv2            0\n",
       "dtype: int64"
      ]
     },
     "execution_count": 23,
     "metadata": {},
     "output_type": "execute_result"
    }
   ],
   "source": [
    "#Checking for null values\n",
    "data.isnull().sum()"
   ]
  },
  {
   "cell_type": "code",
   "execution_count": 24,
   "id": "1b3bcdb1",
   "metadata": {},
   "outputs": [
    {
     "data": {
      "text/plain": [
       "0"
      ]
     },
     "execution_count": 24,
     "metadata": {},
     "output_type": "execute_result"
    }
   ],
   "source": [
    "#Checking for duplicated in our dataset\n",
    "data.duplicated().sum()"
   ]
  },
  {
   "cell_type": "code",
   "execution_count": 25,
   "id": "7eefd755",
   "metadata": {},
   "outputs": [],
   "source": [
    "#Identifying our dependent and independent variables\n",
    "X = data[['T2']]  # Independent variable (living room temperature)\n",
    "y = data['T6']    # Dependent variable (outside temperature)"
   ]
  },
  {
   "cell_type": "code",
   "execution_count": 26,
   "id": "ba7b71c1",
   "metadata": {},
   "outputs": [],
   "source": [
    "#importing libraries\n",
    "from sklearn.model_selection import train_test_split\n",
    "from sklearn.preprocessing import MinMaxScaler\n",
    "from sklearn.linear_model import LinearRegression\n",
    "from sklearn.metrics import r2_score\n",
    "from sklearn.metrics import mean_absolute_error"
   ]
  },
  {
   "cell_type": "code",
   "execution_count": 27,
   "id": "834ee776",
   "metadata": {},
   "outputs": [],
   "source": [
    "# Remove the specified columns\n",
    "columns_to_remove = [\"date\", \"lights\"]\n",
    "data = data.drop(columns=columns_to_remove)"
   ]
  },
  {
   "cell_type": "code",
   "execution_count": 28,
   "id": "46635ed1",
   "metadata": {},
   "outputs": [],
   "source": [
    "# Normalize the dataset using MinMaxScaler\n",
    "scaler = MinMaxScaler()\n",
    "normalised_data = pd.DataFrame(scaler.fit_transform(data), columns=data.columns)\n",
    "X = normalised_data.drop(columns=['Appliances'])\n",
    "y = normalised_data['Appliances']"
   ]
  },
  {
   "cell_type": "code",
   "execution_count": 29,
   "id": "b22b5abf",
   "metadata": {},
   "outputs": [],
   "source": [
    "#Now, we split our dataset into the training and testing dataset\n",
    "X_train, X_test, y_train, y_test = train_test_split(X, y, test_size=0.3, random_state=1)"
   ]
  },
  {
   "cell_type": "code",
   "execution_count": 30,
   "id": "5c3b9527",
   "metadata": {},
   "outputs": [
    {
     "data": {
      "text/plain": [
       "LinearRegression()"
      ]
     },
     "execution_count": 30,
     "metadata": {},
     "output_type": "execute_result"
    }
   ],
   "source": [
    "#Create and fit the linear regression model\n",
    "linear_model = LinearRegression()\n",
    "linear_model.fit(X, y)"
   ]
  },
  {
   "cell_type": "code",
   "execution_count": 31,
   "id": "b98fb965",
   "metadata": {},
   "outputs": [
    {
     "data": {
      "text/plain": [
       "LinearRegression()"
      ]
     },
     "execution_count": 31,
     "metadata": {},
     "output_type": "execute_result"
    }
   ],
   "source": [
    "#Fit the model to the training set\n",
    "linear_model.fit(X_train, y_train)"
   ]
  },
  {
   "cell_type": "code",
   "execution_count": 32,
   "id": "468647c0",
   "metadata": {},
   "outputs": [],
   "source": [
    "#obtaining predictions\n",
    "predicted_values = linear_model.predict(X_test)"
   ]
  },
  {
   "cell_type": "code",
   "execution_count": 33,
   "id": "79985493",
   "metadata": {},
   "outputs": [
    {
     "data": {
      "text/plain": [
       "0.05"
      ]
     },
     "execution_count": 33,
     "metadata": {},
     "output_type": "execute_result"
    }
   ],
   "source": [
    "#Mean Absolute Error\n",
    "mae = mean_absolute_error(y_test, predicted_values)\n",
    "round(mae, 2)\n"
   ]
  },
  {
   "cell_type": "code",
   "execution_count": 34,
   "id": "c7202c63",
   "metadata": {},
   "outputs": [
    {
     "data": {
      "text/plain": [
       "0.16"
      ]
     },
     "execution_count": 34,
     "metadata": {},
     "output_type": "execute_result"
    }
   ],
   "source": [
    "#Finding the R2\n",
    "r2_score = r2_score(y_test, predicted_values)\n",
    "round(r2_score, 2)\n"
   ]
  },
  {
   "cell_type": "code",
   "execution_count": 35,
   "id": "c8d7ca1d",
   "metadata": {},
   "outputs": [
    {
     "data": {
      "text/plain": [
       "46.1"
      ]
     },
     "execution_count": 35,
     "metadata": {},
     "output_type": "execute_result"
    }
   ],
   "source": [
    "#The residual sum of squares\n",
    "rss = np.sum((y_test - predicted_values) ** 2)\n",
    "round(rss, 2)"
   ]
  },
  {
   "cell_type": "code",
   "execution_count": 36,
   "id": "3bb26e65",
   "metadata": {},
   "outputs": [
    {
     "data": {
      "text/plain": [
       "0.088"
      ]
     },
     "execution_count": 36,
     "metadata": {},
     "output_type": "execute_result"
    }
   ],
   "source": [
    "#The Root Mean Squared Error\n",
    "from sklearn.metrics import mean_squared_error\n",
    "rmse = np.sqrt(mean_squared_error(y_test, predicted_values))\n",
    "round(rmse, 3)\n"
   ]
  },
  {
   "cell_type": "code",
   "execution_count": 37,
   "id": "667c7c0f",
   "metadata": {},
   "outputs": [
    {
     "data": {
      "text/plain": [
       "Ridge(alpha=0.5)"
      ]
     },
     "execution_count": 37,
     "metadata": {},
     "output_type": "execute_result"
    }
   ],
   "source": [
    "from sklearn.linear_model import Ridge\n",
    "ridge_reg =  Ridge(alpha = 0.5)\n",
    "ridge_reg.fit(X_train, y_train)"
   ]
  },
  {
   "cell_type": "code",
   "execution_count": 38,
   "id": "3b97f7e9",
   "metadata": {},
   "outputs": [
    {
     "data": {
      "text/plain": [
       "Lasso(alpha=0.001)"
      ]
     },
     "execution_count": 38,
     "metadata": {},
     "output_type": "execute_result"
    }
   ],
   "source": [
    "from sklearn.linear_model import Lasso\n",
    "lasso_reg = Lasso(alpha = 0.001)\n",
    "lasso_reg.fit(X_train, y_train)"
   ]
  },
  {
   "cell_type": "code",
   "execution_count": 39,
   "id": "3c01932a",
   "metadata": {},
   "outputs": [],
   "source": [
    "#Comparing the effects of regularisation\n",
    "def get_weights_data(model, feat, col_name):#This function returns the weight of every feature\n",
    "    weights = pd.Series(model.coef_, feat.columns).sort_values()\n",
    "    weights_data = pd.DataFrame(weights).reset_index()\n",
    "    weights_data.columns = ['features', col_name]\n",
    "    weights_data[col_name].round(3)\n",
    "    return weights_data"
   ]
  },
  {
   "cell_type": "code",
   "execution_count": 40,
   "id": "1375e452",
   "metadata": {},
   "outputs": [],
   "source": [
    "linear_model_weights = get_weights_data(linear_model, X_train, 'Linear_Model_Weight')\n",
    "ridge_weights_data = get_weights_data(ridge_reg, X_train, 'Ridge_Weight')\n",
    "lasso_weights_data = get_weights_data(lasso_reg, X_train, 'Lasso_weight')\n",
    "final_weights = pd.merge(linear_model_weights, ridge_weights_data, on='features')\n",
    "final_weights = pd.merge(final_weights, lasso_weights_data, on='features')"
   ]
  },
  {
   "cell_type": "code",
   "execution_count": 41,
   "id": "921352f1",
   "metadata": {},
   "outputs": [
    {
     "name": "stdout",
     "output_type": "stream",
     "text": [
      "       features  Linear_Model_Weight  Ridge_Weight  Lasso_weight\n",
      "0          RH_2            -0.458176     -0.402797     -0.000000\n",
      "1         T_out            -0.330375     -0.257457      0.000000\n",
      "2            T2            -0.249801     -0.207220      0.000084\n",
      "3            T9            -0.204718     -0.202972     -0.000000\n",
      "4          RH_8            -0.156534     -0.155679     -0.000000\n",
      "5        RH_out            -0.076223     -0.048460     -0.047062\n",
      "6          RH_7            -0.047614     -0.049049     -0.000000\n",
      "7          RH_9            -0.036034     -0.038121     -0.000000\n",
      "8           rv2            -0.000350     -0.000355     -0.000000\n",
      "9           rv1            -0.000350     -0.000355     -0.000000\n",
      "10  Press_mm_hg             0.004642      0.004321     -0.000000\n",
      "11           T1             0.005960     -0.012632      0.000000\n",
      "12   Visibility             0.010992      0.010747      0.000000\n",
      "13           T7             0.012583      0.011932     -0.000000\n",
      "14           T5             0.012616      0.007291     -0.000000\n",
      "15         RH_5             0.016276      0.016484      0.000000\n",
      "16         RH_4             0.026659      0.024394      0.000000\n",
      "17           T4             0.027368      0.025272      0.000000\n",
      "18    Windspeed             0.027918      0.029258      0.002774\n",
      "19         RH_6             0.038094      0.034969     -0.000000\n",
      "20           T8             0.088501      0.087275      0.000000\n",
      "21         RH_3             0.095538      0.094256      0.000000\n",
      "22    Tdewpoint             0.119484      0.077642      0.000000\n",
      "23           T6             0.249019      0.224872      0.000000\n",
      "24           T3             0.293245      0.290534      0.000000\n",
      "25         RH_1             0.535743      0.494811      0.008410\n"
     ]
    }
   ],
   "source": [
    "print(final_weights)\n"
   ]
  },
  {
   "cell_type": "code",
   "execution_count": null,
   "id": "71a46d8c",
   "metadata": {},
   "outputs": [],
   "source": [
    "# From the question, RH_2 and RH_1 has the lowest and the highest weights respectively, in the linear model."
   ]
  },
  {
   "cell_type": "code",
   "execution_count": 42,
   "id": "4b0e3696",
   "metadata": {},
   "outputs": [
    {
     "data": {
      "text/plain": [
       "0.088"
      ]
     },
     "execution_count": 42,
     "metadata": {},
     "output_type": "execute_result"
    }
   ],
   "source": [
    "#Train a ridge regression model with an alpha value of 0.4. \n",
    "#Is there any change to the root mean squared error (RMSE) when evaluated on the test set?\n",
    "ridge_reg =  Ridge(alpha = 0.4)\n",
    "ridge_reg.fit(X_train, y_train)\n",
    "rmse = np.sqrt(mean_squared_error(y_test, predicted_values))\n",
    "round(rmse, 3)"
   ]
  },
  {
   "cell_type": "code",
   "execution_count": null,
   "id": "057cbd3d",
   "metadata": {},
   "outputs": [],
   "source": [
    "# There is no change."
   ]
  }
 ],
 "metadata": {
  "kernelspec": {
   "display_name": "Python 3 (ipykernel)",
   "language": "python",
   "name": "python3"
  },
  "language_info": {
   "codemirror_mode": {
    "name": "ipython",
    "version": 3
   },
   "file_extension": ".py",
   "mimetype": "text/x-python",
   "name": "python",
   "nbconvert_exporter": "python",
   "pygments_lexer": "ipython3",
   "version": "3.9.13"
  }
 },
 "nbformat": 4,
 "nbformat_minor": 5
}
